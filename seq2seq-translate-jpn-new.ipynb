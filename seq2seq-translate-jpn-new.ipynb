{
 "cells": [
  {
   "cell_type": "code",
   "execution_count": 17,
   "metadata": {},
   "outputs": [],
   "source": [
    "import tensorflow as tf\n",
    "\n",
    "import matplotlib.pyplot as plt\n",
    "import matplotlib.ticker as ticker\n",
    "from sklearn.model_selection import train_test_split\n",
    "from keras_bert import load_trained_model_from_checkpoint, Tokenizer\n",
    "\n",
    "import codecs\n",
    "import unicodedata\n",
    "import re\n",
    "import numpy as np\n",
    "import os\n",
    "import io\n",
    "import time\n",
    "\n",
    "# import MeCab"
   ]
  },
  {
   "cell_type": "code",
   "execution_count": 111,
   "metadata": {},
   "outputs": [
    {
     "name": "stdout",
     "output_type": "stream",
     "text": [
      "1.14.0 2.2.4-tf\n"
     ]
    }
   ],
   "source": [
    "print(tf.__version__, tf.keras.__version__)"
   ]
  },
  {
   "cell_type": "code",
   "execution_count": 4,
   "metadata": {},
   "outputs": [],
   "source": [
    "# jpn-english material\n",
    "path_to_file = \"./jpn-eng/jpn.txt\""
   ]
  },
  {
   "cell_type": "code",
   "execution_count": 5,
   "metadata": {},
   "outputs": [],
   "source": [
    "# bert model parameters\n",
    "SEQ_LEN = 64\n",
    "BATCH_SIZE = 64\n",
    "OUTPUT_LAYER_NUM = 4\n",
    "LEARNING_RATE = 1e-5\n",
    "\n",
    "PRETRAINED_PATH = 'bert-master/Japanese_L-12_H-768_A-12_E-30_BPE/'\n",
    "CONFIG_PATH = PRETRAINED_PATH + 'bert_config.json'\n",
    "CHECKPOINT_PATH = PRETRAINED_PATH + 'bert_model.ckpt'\n",
    "VOCAB_PATH = PRETRAINED_PATH + 'vocab.txt'"
   ]
  },
  {
   "cell_type": "code",
   "execution_count": 6,
   "metadata": {},
   "outputs": [],
   "source": [
    "# load bert model\n",
    "bert_model = load_trained_model_from_checkpoint(\n",
    "  CONFIG_PATH,\n",
    "  CHECKPOINT_PATH,\n",
    "  training=False,\n",
    "  trainable=False,\n",
    "  output_layer_num=OUTPUT_LAYER_NUM,\n",
    "  seq_len=SEQ_LEN\n",
    ")"
   ]
  },
  {
   "cell_type": "code",
   "execution_count": 6,
   "metadata": {},
   "outputs": [
    {
     "name": "stderr",
     "output_type": "stream",
     "text": [
      "WARNING: Logging before flag parsing goes to stderr.\n",
      "W0829 14:12:56.373942 15000 deprecation_wrapper.py:119] From C:\\Users\\di.sun\\AppData\\Local\\Continuum\\anaconda3\\envs\\tensorflow1\\lib\\site-packages\\keras\\backend\\tensorflow_backend.py:541: The name tf.placeholder is deprecated. Please use tf.compat.v1.placeholder instead.\n",
      "\n",
      "W0829 14:12:56.398949 15000 deprecation_wrapper.py:119] From C:\\Users\\di.sun\\AppData\\Local\\Continuum\\anaconda3\\envs\\tensorflow1\\lib\\site-packages\\keras\\backend\\tensorflow_backend.py:4432: The name tf.random_uniform is deprecated. Please use tf.random.uniform instead.\n",
      "\n",
      "W0829 14:12:56.499941 15000 deprecation_wrapper.py:119] From C:\\Users\\di.sun\\AppData\\Local\\Continuum\\anaconda3\\envs\\tensorflow1\\lib\\site-packages\\keras\\backend\\tensorflow_backend.py:66: The name tf.get_default_graph is deprecated. Please use tf.compat.v1.get_default_graph instead.\n",
      "\n",
      "W0829 14:12:56.501940 15000 deprecation_wrapper.py:119] From C:\\Users\\di.sun\\AppData\\Local\\Continuum\\anaconda3\\envs\\tensorflow1\\lib\\site-packages\\keras\\backend\\tensorflow_backend.py:148: The name tf.placeholder_with_default is deprecated. Please use tf.compat.v1.placeholder_with_default instead.\n",
      "\n",
      "W0829 14:12:56.514941 15000 deprecation.py:506] From C:\\Users\\di.sun\\AppData\\Local\\Continuum\\anaconda3\\envs\\tensorflow1\\lib\\site-packages\\keras\\backend\\tensorflow_backend.py:3733: calling dropout (from tensorflow.python.ops.nn_ops) with keep_prob is deprecated and will be removed in a future version.\n",
      "Instructions for updating:\n",
      "Please use `rate` instead of `keep_prob`. Rate should be set to `rate = 1 - keep_prob`.\n",
      "W0829 14:12:56.565944 15000 deprecation_wrapper.py:119] From C:\\Users\\di.sun\\AppData\\Local\\Continuum\\anaconda3\\envs\\tensorflow1\\lib\\site-packages\\keras\\backend\\tensorflow_backend.py:4479: The name tf.truncated_normal is deprecated. Please use tf.random.truncated_normal instead.\n",
      "\n"
     ]
    }
   ],
   "source": [
    "# prepare token->idx dictionary\n",
    "def make_token_dict(vocab_path):\n",
    "  token_dict = {}\n",
    "  with codecs.open(vocab_path, 'r', 'utf8') as reader:\n",
    "    for line in reader:\n",
    "      if line != ' \\n':\n",
    "        token = line.strip()\n",
    "      else:\n",
    "        token = line.strip('\\n')\n",
    "      token_dict[token] = len(token_dict)\n",
    "  return token_dict"
   ]
  },
  {
   "cell_type": "code",
   "execution_count": 7,
   "metadata": {},
   "outputs": [],
   "source": [
    "def preprocess_eng_sentence(w):\n",
    "    w = w.lower().strip()\n",
    "\n",
    "    # creating a space between a word and the punctuation following it\n",
    "    # eg: \"he is a boy.\" => \"he is a boy .\"\n",
    "    # Reference:- https://stackoverflow.com/questions/3645931/python-padding-punctuation-with-white-spaces-keeping-punctuation\n",
    "    w = re.sub(r\"([?.!,¿])\", r\" \\1 \", w)\n",
    "    w = re.sub(r'[\" \"]+', \" \", w)\n",
    "\n",
    "    # replacing everything with space except (a-z, A-Z, \".\", \"?\", \"!\", \",\")\n",
    "    w = re.sub(r\"[^a-zA-Z?.!,¿]+\", \" \", w)\n",
    "\n",
    "    w = w.rstrip().strip()\n",
    "\n",
    "    # adding a start and an end token to the sentence\n",
    "    # so that the model know when to start and stop predicting.\n",
    "    w = '[CLS] ' + w + ' [SEP]'\n",
    "    return w\n",
    "\n",
    "def preprocess_jpn_sentence(w):\n",
    "    m = MeCab.Tagger (\"-Owakati\")\n",
    "    w = '[CLS] ' + m.parse(w).strip().strip('\\n') + ' [SEP]'\n",
    "    return w"
   ]
  },
  {
   "cell_type": "code",
   "execution_count": 13,
   "metadata": {},
   "outputs": [],
   "source": [
    "def create_dataset(path, num_examples):\n",
    "    lines = io.open(path, encoding='UTF-8').read().strip().split('\\n')\n",
    "    eng, jpn = [], []\n",
    "    for l in lines[:num_examples]:\n",
    "#         (eng_sentence, jpn_sentence) = l.split('\\t')\n",
    "        (eng_sentence, _) = l.split('\\t')\n",
    "        eng.append(preprocess_eng_sentence(eng_sentence))\n",
    "#         jpn.append(preprocess_jpn_sentence(jpn_sentence))\n",
    "    return eng, jpn"
   ]
  },
  {
   "cell_type": "code",
   "execution_count": 14,
   "metadata": {},
   "outputs": [],
   "source": [
    "eng, jpn = create_dataset(path_to_file, None)"
   ]
  },
  {
   "cell_type": "code",
   "execution_count": null,
   "metadata": {},
   "outputs": [],
   "source": [
    "print(eng[3])\n",
    "print(jpn[3])"
   ]
  },
  {
   "cell_type": "code",
   "execution_count": 9,
   "metadata": {},
   "outputs": [],
   "source": [
    "def max_length(tensor):\n",
    "    return max(len(t) for t in tensor)\n",
    "\n",
    "def tokenize(lang):\n",
    "    # convert words(of a sentence) into word indexes\n",
    "    lang_tokenizer = tf.keras.preprocessing.text.Tokenizer(\n",
    "                     filters='')\n",
    "    lang_tokenizer.fit_on_texts(lang)\n",
    "\n",
    "    tensor = lang_tokenizer.texts_to_sequences(lang)\n",
    "    # padding word indexes(of sentences) to the same length(using maximum length of all sentences)\n",
    "    tensor = tf.keras.preprocessing.sequence.pad_sequences(tensor,\n",
    "                                                           padding='post')\n",
    "\n",
    "    return tensor, lang_tokenizer\n",
    "\n",
    "# def load_dataset(path, num_examples=None):\n",
    "#     # creating cleaned input, output pairs\n",
    "#     targ_lang, inp_lang = create_dataset(path, num_examples)\n",
    "\n",
    "#     input_tensor, inp_lang_tokenizer = tokenize(inp_lang)\n",
    "#     target_tensor, targ_lang_tokenizer = tokenize(targ_lang)\n",
    "\n",
    "#     return input_tensor, target_tensor, inp_lang_tokenizer, targ_lang_tokenizer"
   ]
  },
  {
   "cell_type": "code",
   "execution_count": 50,
   "metadata": {},
   "outputs": [],
   "source": [
    "def load_dataset(path, input_vocab_path, num_examples=None, verbose=False):\n",
    "  # creating cleaned input, output pairs\n",
    "  targ_lang, _ = create_dataset(path, num_examples)\n",
    "  target_tensor, targ_lang_tokenizer = tokenize(targ_lang)\n",
    "\n",
    "  input_token_dict = make_token_dict(input_vocab_path)\n",
    "  inp_lang_tokenizer = Tokenizer(input_token_dict, cased=True)\n",
    "  \n",
    "  lines = io.open(path, encoding='UTF-8').read().strip().split('\\n')\n",
    "  inp_ids, inp_segments = [], []\n",
    "  for l in lines[:num_examples]:\n",
    "      (_, jpn_sentence) = l.split('\\t')\n",
    "      id, segment = inp_lang_tokenizer.encode(jpn_sentence, max_len=SEQ_LEN)\n",
    "      inp_ids.append(id)\n",
    "      inp_segments.append(segment)\n",
    "      if verbose:\n",
    "        print('{}->{}{}'.format(jpn_sentence, id, segment))\n",
    "  \n",
    "\n",
    "  return inp_ids, inp_segments, target_tensor, inp_lang_tokenizer, targ_lang_tokenizer"
   ]
  },
  {
   "cell_type": "code",
   "execution_count": null,
   "metadata": {},
   "outputs": [],
   "source": [
    "inp_ids, inp_segments, target_tensor, inp_lang, targ_lang = load_dataset(path_to_file, VOCAB_PATH, 3)"
   ]
  },
  {
   "cell_type": "code",
   "execution_count": 60,
   "metadata": {},
   "outputs": [
    {
     "name": "stdout",
     "output_type": "stream",
     "text": [
      "36000 36000 9000 9000\n"
     ]
    }
   ],
   "source": [
    "# Try experimenting with the size of that dataset\n",
    "num_examples = 45000\n",
    "# input_tensor, target_tensor, inp_lang, targ_lang = load_dataset(path_to_file, num_examples)\n",
    "inp_ids, inp_segments, target_tensor, inp_lang, targ_lang = load_dataset(path_to_file, VOCAB_PATH, num_examples)\n",
    "input_tensor = []\n",
    "for i, s in zip(inp_ids, inp_segments):\n",
    "  input_tensor.append([i,s])\n",
    "\n",
    "# Calculate max_length of the target tensors\n",
    "# max_length_targ, max_length_inp = max_length(target_tensor), max_length(input_tensor)\n",
    "max_length_targ, max_length_inp = max_length(target_tensor), SEQ_LEN\n",
    "\n",
    "# Creating training and validation sets using an 80-20 split\n",
    "input_tensor_train, input_tensor_val, target_tensor_train, target_tensor_val = train_test_split(input_tensor, target_tensor, test_size=0.2)\n",
    "\n",
    "# Show length\n",
    "print(len(input_tensor_train), len(target_tensor_train), len(input_tensor_val), len(target_tensor_val))"
   ]
  },
  {
   "cell_type": "code",
   "execution_count": 68,
   "metadata": {},
   "outputs": [
    {
     "data": {
      "text/plain": [
       "['の']"
      ]
     },
     "execution_count": 68,
     "metadata": {},
     "output_type": "execute_result"
    }
   ],
   "source": [
    "inp_lang.decode([2, 5, 3])"
   ]
  },
  {
   "cell_type": "code",
   "execution_count": 61,
   "metadata": {},
   "outputs": [
    {
     "name": "stdout",
     "output_type": "stream",
     "text": [
      "29 64\n"
     ]
    }
   ],
   "source": [
    "print(max_length_targ, max_length_inp)"
   ]
  },
  {
   "cell_type": "code",
   "execution_count": 73,
   "metadata": {},
   "outputs": [],
   "source": [
    "def convert(lang, tensor):\n",
    "  if isinstance(lang, tf.keras.preprocessing.text.Tokenizer):\n",
    "    for t in tensor:\n",
    "      if t!=0:\n",
    "        print (\"%d ----> %s\" % (t, lang.index_word[t]))\n",
    "  else:\n",
    "    print (lang.decode(tensor))\n",
    "\n",
    "print (\"Input Language; index to word mapping\")\n",
    "convert(inp_lang, input_tensor_train[0][0])\n",
    "print ()\n",
    "print (\"Target Language; index to word mapping\")\n",
    "convert(targ_lang, target_tensor_train[0])"
   ]
  },
  {
   "cell_type": "code",
   "execution_count": 74,
   "metadata": {},
   "outputs": [
    {
     "name": "stdout",
     "output_type": "stream",
     "text": [
      "36000\n"
     ]
    }
   ],
   "source": [
    "print(len(input_tensor_train))"
   ]
  },
  {
   "cell_type": "code",
   "execution_count": 75,
   "metadata": {},
   "outputs": [],
   "source": [
    "BUFFER_SIZE = len(input_tensor_train)\n",
    "# BATCH_SIZE = 64\n",
    "steps_per_epoch = len(input_tensor_train)//BATCH_SIZE\n",
    "embedding_dim = 3072 # concatenation of last 4 layer ouputs of Transformer\n",
    "units = 1024\n",
    "# vocab_inp_size = len(inp_lang.word_index)+1\n",
    "vocab_inp_size = len(inp_lang._token_dict)\n",
    "vocab_tar_size = len(targ_lang.word_index)+1\n",
    "\n",
    "dataset = tf.data.Dataset.from_tensor_slices((input_tensor_train, target_tensor_train)).shuffle(BUFFER_SIZE)\n",
    "dataset = dataset.batch(BATCH_SIZE, drop_remainder=True)"
   ]
  },
  {
   "cell_type": "code",
   "execution_count": 88,
   "metadata": {},
   "outputs": [
    {
     "name": "stdout",
     "output_type": "stream",
     "text": [
      "32005 8844\n",
      "(64, 64)\n",
      "36000\n"
     ]
    }
   ],
   "source": [
    "print(vocab_inp_size, vocab_tar_size)\n",
    "input_tensor_train = np.array(input_tensor_train)\n",
    "print(input_tensor_train[:64, 1, :].shape)\n",
    "print(len(input_tensor_train))"
   ]
  },
  {
   "cell_type": "code",
   "execution_count": 105,
   "metadata": {},
   "outputs": [],
   "source": [
    "class Encoder(tf.keras.Model):\n",
    "    def __init__(self, vocab_size, embedding_dim, enc_units, batch_sz, bert_model=None):\n",
    "        super(Encoder, self).__init__()\n",
    "        self.batch_sz = batch_sz\n",
    "        self.enc_units = enc_units\n",
    "        if not bert_model:\n",
    "          self.embedding = tf.keras.layers.Embedding(vocab_size, embedding_dim)\n",
    "        else:\n",
    "          self.embedding = bert_model\n",
    "        self.gru = tf.keras.layers.GRU(self.enc_units,\n",
    "                                       return_sequences=True,\n",
    "                                       return_state=True,\n",
    "                                       recurrent_initializer='glorot_uniform')\n",
    "\n",
    "    def call(self, x, hidden, bert_model=False):\n",
    "        if not bert_model:\n",
    "          x = self.embedding(x)\n",
    "        else:\n",
    "          x = self.embedding(x)\n",
    "        output, state = self.gru(x, initial_state = hidden)\n",
    "        return output, state\n",
    "\n",
    "    def initialize_hidden_state(self):\n",
    "        return tf.zeros((self.batch_sz, self.enc_units))"
   ]
  },
  {
   "cell_type": "code",
   "execution_count": 106,
   "metadata": {},
   "outputs": [
    {
     "name": "stdout",
     "output_type": "stream",
     "text": [
      "[array([[    2,   149,  1099,     9, 23025,  4330,  1607,  1512,     5,\n",
      "         3191,    10,   940, 10759,   668,     7,     3,     0,     0,\n",
      "            0,     0,     0,     0,     0,     0,     0,     0,     0,\n",
      "            0,     0,     0,     0,     0,     0,     0,     0,     0,\n",
      "            0,     0,     0,     0,     0,     0,     0,     0,     0,\n",
      "            0,     0,     0,     0,     0,     0,     0,     0,     0,\n",
      "            0,     0,     0,     0,     0,     0,     0,     0,     0,\n",
      "            0],\n",
      "       [    2,  8882,   226,     8,  9013,  1357,   429,  4330,   635,\n",
      "         1247, 16614,   856,     7,     3,     0,     0,     0,     0,\n",
      "            0,     0,     0,     0,     0,     0,     0,     0,     0,\n",
      "            0,     0,     0,     0,     0,     0,     0,     0,     0,\n",
      "            0,     0,     0,     0,     0,     0,     0,     0,     0,\n",
      "            0,     0,     0,     0,     0,     0,     0,     0,     0,\n",
      "            0,     0,     0,     0,     0,     0,     0,     0,     0,\n",
      "            0]]), array([[0, 0, 0, 0, 0, 0, 0, 0, 0, 0, 0, 0, 0, 0, 0, 0, 0, 0, 0, 0, 0, 0,\n",
      "        0, 0, 0, 0, 0, 0, 0, 0, 0, 0, 0, 0, 0, 0, 0, 0, 0, 0, 0, 0, 0, 0,\n",
      "        0, 0, 0, 0, 0, 0, 0, 0, 0, 0, 0, 0, 0, 0, 0, 0, 0, 0, 0, 0],\n",
      "       [0, 0, 0, 0, 0, 0, 0, 0, 0, 0, 0, 0, 0, 0, 0, 0, 0, 0, 0, 0, 0, 0,\n",
      "        0, 0, 0, 0, 0, 0, 0, 0, 0, 0, 0, 0, 0, 0, 0, 0, 0, 0, 0, 0, 0, 0,\n",
      "        0, 0, 0, 0, 0, 0, 0, 0, 0, 0, 0, 0, 0, 0, 0, 0, 0, 0, 0, 0]])]\n",
      "(2, 64)\n"
     ]
    }
   ],
   "source": [
    "example_input_batch = input_tensor_train[:2]\n",
    "print([example_input_batch[:, 0, :], example_input_batch[:, 1, :]])\n",
    "print(example_input_batch[:, 0, :].shape)"
   ]
  },
  {
   "cell_type": "code",
   "execution_count": 108,
   "metadata": {},
   "outputs": [
    {
     "ename": "AttributeError",
     "evalue": "in converted code:\n\n    <ipython-input-105-99ea45c21904>:20 call *\n        output, state = self.gru(x, initial_state = hidden)\n    C:\\Users\\di.sun\\AppData\\Local\\Continuum\\anaconda3\\envs\\tensorflow1\\lib\\site-packages\\tensorflow\\python\\keras\\layers\\recurrent.py:669 __call__\n        return super(RNN, self).__call__(inputs, **kwargs)\n    C:\\Users\\di.sun\\AppData\\Local\\Continuum\\anaconda3\\envs\\tensorflow1\\lib\\site-packages\\tensorflow\\python\\keras\\engine\\base_layer.py:663 __call__\n        inputs, outputs, args, kwargs)\n    C:\\Users\\di.sun\\AppData\\Local\\Continuum\\anaconda3\\envs\\tensorflow1\\lib\\site-packages\\tensorflow\\python\\keras\\engine\\base_layer.py:1708 _set_connectivity_metadata_\n        input_tensors=inputs, output_tensors=outputs, arguments=kwargs)\n    C:\\Users\\di.sun\\AppData\\Local\\Continuum\\anaconda3\\envs\\tensorflow1\\lib\\site-packages\\tensorflow\\python\\keras\\engine\\base_layer.py:1795 _add_inbound_node\n        input_tensors)\n    C:\\Users\\di.sun\\AppData\\Local\\Continuum\\anaconda3\\envs\\tensorflow1\\lib\\site-packages\\tensorflow\\python\\util\\nest.py:515 map_structure\n        structure[0], [func(*x) for x in entries],\n    C:\\Users\\di.sun\\AppData\\Local\\Continuum\\anaconda3\\envs\\tensorflow1\\lib\\site-packages\\tensorflow\\python\\util\\nest.py:515 <listcomp>\n        structure[0], [func(*x) for x in entries],\n    C:\\Users\\di.sun\\AppData\\Local\\Continuum\\anaconda3\\envs\\tensorflow1\\lib\\site-packages\\tensorflow\\python\\keras\\engine\\base_layer.py:1794 <lambda>\n        inbound_layers = nest.map_structure(lambda t: t._keras_history.layer,\n\n    AttributeError: 'tuple' object has no attribute 'layer'\n",
     "output_type": "error",
     "traceback": [
      "\u001b[1;31m---------------------------------------------------------------------------\u001b[0m",
      "\u001b[1;31mAttributeError\u001b[0m                            Traceback (most recent call last)",
      "\u001b[1;32m<ipython-input-108-c435f040adeb>\u001b[0m in \u001b[0;36m<module>\u001b[1;34m\u001b[0m\n\u001b[0;32m      4\u001b[0m \u001b[0mexample_input_batch\u001b[0m \u001b[1;33m=\u001b[0m \u001b[0minput_tensor_train\u001b[0m\u001b[1;33m[\u001b[0m\u001b[1;33m:\u001b[0m\u001b[1;36m64\u001b[0m\u001b[1;33m]\u001b[0m\u001b[1;33m\u001b[0m\u001b[1;33m\u001b[0m\u001b[0m\n\u001b[0;32m      5\u001b[0m \u001b[1;33m\u001b[0m\u001b[0m\n\u001b[1;32m----> 6\u001b[1;33m \u001b[0msample_output\u001b[0m\u001b[1;33m,\u001b[0m \u001b[0msample_hidden\u001b[0m \u001b[1;33m=\u001b[0m \u001b[0mencoder\u001b[0m\u001b[1;33m(\u001b[0m\u001b[1;33m[\u001b[0m\u001b[0mexample_input_batch\u001b[0m\u001b[1;33m[\u001b[0m\u001b[1;33m:\u001b[0m\u001b[1;33m,\u001b[0m \u001b[1;36m0\u001b[0m\u001b[1;33m,\u001b[0m \u001b[1;33m:\u001b[0m\u001b[1;33m]\u001b[0m\u001b[1;33m,\u001b[0m \u001b[0mexample_input_batch\u001b[0m\u001b[1;33m[\u001b[0m\u001b[1;33m:\u001b[0m\u001b[1;33m,\u001b[0m \u001b[1;36m1\u001b[0m\u001b[1;33m,\u001b[0m \u001b[1;33m:\u001b[0m\u001b[1;33m]\u001b[0m\u001b[1;33m]\u001b[0m\u001b[1;33m,\u001b[0m \u001b[0msample_hidden\u001b[0m\u001b[1;33m,\u001b[0m \u001b[0mbert_model\u001b[0m\u001b[1;33m=\u001b[0m\u001b[1;32mTrue\u001b[0m\u001b[1;33m)\u001b[0m\u001b[1;33m\u001b[0m\u001b[1;33m\u001b[0m\u001b[0m\n\u001b[0m\u001b[0;32m      7\u001b[0m \u001b[0mprint\u001b[0m \u001b[1;33m(\u001b[0m\u001b[1;34m'Encoder output shape: (batch size, sequence length, units) {}'\u001b[0m\u001b[1;33m.\u001b[0m\u001b[0mformat\u001b[0m\u001b[1;33m(\u001b[0m\u001b[0msample_output\u001b[0m\u001b[1;33m.\u001b[0m\u001b[0mshape\u001b[0m\u001b[1;33m)\u001b[0m\u001b[1;33m)\u001b[0m\u001b[1;33m\u001b[0m\u001b[1;33m\u001b[0m\u001b[0m\n\u001b[0;32m      8\u001b[0m \u001b[0mprint\u001b[0m \u001b[1;33m(\u001b[0m\u001b[1;34m'Encoder Hidden state shape: (batch size, units) {}'\u001b[0m\u001b[1;33m.\u001b[0m\u001b[0mformat\u001b[0m\u001b[1;33m(\u001b[0m\u001b[0msample_hidden\u001b[0m\u001b[1;33m.\u001b[0m\u001b[0mshape\u001b[0m\u001b[1;33m)\u001b[0m\u001b[1;33m)\u001b[0m\u001b[1;33m\u001b[0m\u001b[1;33m\u001b[0m\u001b[0m\n",
      "\u001b[1;32m~\\AppData\\Local\\Continuum\\anaconda3\\envs\\tensorflow1\\lib\\site-packages\\tensorflow\\python\\keras\\engine\\base_layer.py\u001b[0m in \u001b[0;36m__call__\u001b[1;34m(self, inputs, *args, **kwargs)\u001b[0m\n\u001b[0;32m    632\u001b[0m                     \u001b[0moutputs\u001b[0m \u001b[1;33m=\u001b[0m \u001b[0mbase_layer_utils\u001b[0m\u001b[1;33m.\u001b[0m\u001b[0mmark_as_return\u001b[0m\u001b[1;33m(\u001b[0m\u001b[0moutputs\u001b[0m\u001b[1;33m,\u001b[0m \u001b[0macd\u001b[0m\u001b[1;33m)\u001b[0m\u001b[1;33m\u001b[0m\u001b[1;33m\u001b[0m\u001b[0m\n\u001b[0;32m    633\u001b[0m                 \u001b[1;32melse\u001b[0m\u001b[1;33m:\u001b[0m\u001b[1;33m\u001b[0m\u001b[1;33m\u001b[0m\u001b[0m\n\u001b[1;32m--> 634\u001b[1;33m                   \u001b[0moutputs\u001b[0m \u001b[1;33m=\u001b[0m \u001b[0mcall_fn\u001b[0m\u001b[1;33m(\u001b[0m\u001b[0minputs\u001b[0m\u001b[1;33m,\u001b[0m \u001b[1;33m*\u001b[0m\u001b[0margs\u001b[0m\u001b[1;33m,\u001b[0m \u001b[1;33m**\u001b[0m\u001b[0mkwargs\u001b[0m\u001b[1;33m)\u001b[0m\u001b[1;33m\u001b[0m\u001b[1;33m\u001b[0m\u001b[0m\n\u001b[0m\u001b[0;32m    635\u001b[0m \u001b[1;33m\u001b[0m\u001b[0m\n\u001b[0;32m    636\u001b[0m             \u001b[1;32mexcept\u001b[0m \u001b[0mTypeError\u001b[0m \u001b[1;32mas\u001b[0m \u001b[0me\u001b[0m\u001b[1;33m:\u001b[0m\u001b[1;33m\u001b[0m\u001b[1;33m\u001b[0m\u001b[0m\n",
      "\u001b[1;32m~\\AppData\\Local\\Continuum\\anaconda3\\envs\\tensorflow1\\lib\\site-packages\\tensorflow\\python\\autograph\\impl\\api.py\u001b[0m in \u001b[0;36mwrapper\u001b[1;34m(*args, **kwargs)\u001b[0m\n\u001b[0;32m    147\u001b[0m       \u001b[1;32mexcept\u001b[0m \u001b[0mException\u001b[0m \u001b[1;32mas\u001b[0m \u001b[0me\u001b[0m\u001b[1;33m:\u001b[0m  \u001b[1;31m# pylint:disable=broad-except\u001b[0m\u001b[1;33m\u001b[0m\u001b[1;33m\u001b[0m\u001b[0m\n\u001b[0;32m    148\u001b[0m         \u001b[1;32mif\u001b[0m \u001b[0mhasattr\u001b[0m\u001b[1;33m(\u001b[0m\u001b[0me\u001b[0m\u001b[1;33m,\u001b[0m \u001b[1;34m'ag_error_metadata'\u001b[0m\u001b[1;33m)\u001b[0m\u001b[1;33m:\u001b[0m\u001b[1;33m\u001b[0m\u001b[1;33m\u001b[0m\u001b[0m\n\u001b[1;32m--> 149\u001b[1;33m           \u001b[1;32mraise\u001b[0m \u001b[0me\u001b[0m\u001b[1;33m.\u001b[0m\u001b[0mag_error_metadata\u001b[0m\u001b[1;33m.\u001b[0m\u001b[0mto_exception\u001b[0m\u001b[1;33m(\u001b[0m\u001b[0mtype\u001b[0m\u001b[1;33m(\u001b[0m\u001b[0me\u001b[0m\u001b[1;33m)\u001b[0m\u001b[1;33m)\u001b[0m\u001b[1;33m\u001b[0m\u001b[1;33m\u001b[0m\u001b[0m\n\u001b[0m\u001b[0;32m    150\u001b[0m         \u001b[1;32melse\u001b[0m\u001b[1;33m:\u001b[0m\u001b[1;33m\u001b[0m\u001b[1;33m\u001b[0m\u001b[0m\n\u001b[0;32m    151\u001b[0m           \u001b[1;32mraise\u001b[0m\u001b[1;33m\u001b[0m\u001b[1;33m\u001b[0m\u001b[0m\n",
      "\u001b[1;31mAttributeError\u001b[0m: in converted code:\n\n    <ipython-input-105-99ea45c21904>:20 call *\n        output, state = self.gru(x, initial_state = hidden)\n    C:\\Users\\di.sun\\AppData\\Local\\Continuum\\anaconda3\\envs\\tensorflow1\\lib\\site-packages\\tensorflow\\python\\keras\\layers\\recurrent.py:669 __call__\n        return super(RNN, self).__call__(inputs, **kwargs)\n    C:\\Users\\di.sun\\AppData\\Local\\Continuum\\anaconda3\\envs\\tensorflow1\\lib\\site-packages\\tensorflow\\python\\keras\\engine\\base_layer.py:663 __call__\n        inputs, outputs, args, kwargs)\n    C:\\Users\\di.sun\\AppData\\Local\\Continuum\\anaconda3\\envs\\tensorflow1\\lib\\site-packages\\tensorflow\\python\\keras\\engine\\base_layer.py:1708 _set_connectivity_metadata_\n        input_tensors=inputs, output_tensors=outputs, arguments=kwargs)\n    C:\\Users\\di.sun\\AppData\\Local\\Continuum\\anaconda3\\envs\\tensorflow1\\lib\\site-packages\\tensorflow\\python\\keras\\engine\\base_layer.py:1795 _add_inbound_node\n        input_tensors)\n    C:\\Users\\di.sun\\AppData\\Local\\Continuum\\anaconda3\\envs\\tensorflow1\\lib\\site-packages\\tensorflow\\python\\util\\nest.py:515 map_structure\n        structure[0], [func(*x) for x in entries],\n    C:\\Users\\di.sun\\AppData\\Local\\Continuum\\anaconda3\\envs\\tensorflow1\\lib\\site-packages\\tensorflow\\python\\util\\nest.py:515 <listcomp>\n        structure[0], [func(*x) for x in entries],\n    C:\\Users\\di.sun\\AppData\\Local\\Continuum\\anaconda3\\envs\\tensorflow1\\lib\\site-packages\\tensorflow\\python\\keras\\engine\\base_layer.py:1794 <lambda>\n        inbound_layers = nest.map_structure(lambda t: t._keras_history.layer,\n\n    AttributeError: 'tuple' object has no attribute 'layer'\n"
     ]
    }
   ],
   "source": [
    "encoder = Encoder(vocab_inp_size, embedding_dim, units, BATCH_SIZE, bert_model=bert_model)\n",
    "# sample input\n",
    "sample_hidden = encoder.initialize_hidden_state()\n",
    "example_input_batch = input_tensor_train[:64]\n",
    "\n",
    "sample_output, sample_hidden = encoder([example_input_batch[:, 0, :], example_input_batch[:, 1, :]], sample_hidden, bert_model=True)\n",
    "print ('Encoder output shape: (batch size, sequence length, units) {}'.format(sample_output.shape))\n",
    "print ('Encoder Hidden state shape: (batch size, units) {}'.format(sample_hidden.shape))"
   ]
  },
  {
   "cell_type": "code",
   "execution_count": 14,
   "metadata": {},
   "outputs": [],
   "source": [
    "class BahdanauAttention(tf.keras.Model):\n",
    "    def __init__(self, units):\n",
    "        super(BahdanauAttention, self).__init__()\n",
    "        self.W1 = tf.keras.layers.Dense(units)\n",
    "        self.W2 = tf.keras.layers.Dense(units)\n",
    "        self.V = tf.keras.layers.Dense(1)\n",
    "\n",
    "    def call(self, query, values):\n",
    "        # hidden shape == (batch_size, hidden size)\n",
    "        # hidden_with_time_axis shape == (batch_size, 1, hidden size)\n",
    "        # we are doing this to perform addition to calculate the score\n",
    "        hidden_with_time_axis = tf.expand_dims(query, 1)\n",
    "\n",
    "        # score shape == (batch_size, max_length, 1)\n",
    "        # we get 1 at the last axis because we are applying score to self.V\n",
    "        # the shape of the tensor before applying self.V is (batch_size, max_length, units)\n",
    "        score = self.V(tf.nn.tanh(\n",
    "            self.W1(values) + self.W2(hidden_with_time_axis)))\n",
    "\n",
    "        # attention_weights shape == (batch_size, max_length, 1)\n",
    "        attention_weights = tf.nn.softmax(score, axis=1)\n",
    "\n",
    "        # context_vector shape after sum == (batch_size, hidden_size)\n",
    "        context_vector = attention_weights * values\n",
    "        context_vector = tf.reduce_sum(context_vector, axis=1)\n",
    "\n",
    "        return context_vector, attention_weights"
   ]
  },
  {
   "cell_type": "code",
   "execution_count": 15,
   "metadata": {},
   "outputs": [
    {
     "name": "stdout",
     "output_type": "stream",
     "text": [
      "Attention result shape: (batch size, units) (64, 1024)\n",
      "Attention weights shape: (batch_size, sequence_length, 1) (64, 44, 1)\n"
     ]
    }
   ],
   "source": [
    "attention_layer = BahdanauAttention(10)\n",
    "attention_result, attention_weights = attention_layer(sample_hidden, sample_output)\n",
    "\n",
    "print(\"Attention result shape: (batch size, units) {}\".format(attention_result.shape))\n",
    "print(\"Attention weights shape: (batch_size, sequence_length, 1) {}\".format(attention_weights.shape))"
   ]
  },
  {
   "cell_type": "code",
   "execution_count": 16,
   "metadata": {},
   "outputs": [],
   "source": [
    "class Decoder(tf.keras.Model):\n",
    "    def __init__(self, vocab_size, embedding_dim, dec_units, batch_sz):\n",
    "        super(Decoder, self).__init__()\n",
    "        self.batch_sz = batch_sz\n",
    "        self.dec_units = dec_units\n",
    "        self.embedding = tf.keras.layers.Embedding(vocab_size, embedding_dim)\n",
    "        self.gru = tf.keras.layers.GRU(self.dec_units,\n",
    "                                       return_sequences=True,\n",
    "                                       return_state=True,\n",
    "                                       recurrent_initializer='glorot_uniform')\n",
    "        self.fc = tf.keras.layers.Dense(vocab_size)\n",
    "\n",
    "        # used for attention\n",
    "        self.attention = BahdanauAttention(self.dec_units)\n",
    "\n",
    "    def call(self, x, hidden, enc_output):\n",
    "        # enc_output shape == (batch_size, max_length, hidden_size)\n",
    "        context_vector, attention_weights = self.attention(hidden, enc_output)\n",
    "\n",
    "        # x shape after passing through embedding == (batch_size, 1, embedding_dim)\n",
    "        x = self.embedding(x)\n",
    "\n",
    "        # x shape after concatenation == (batch_size, 1, embedding_dim + hidden_size)\n",
    "        x = tf.concat([tf.expand_dims(context_vector, 1), x], axis=-1)\n",
    "\n",
    "        # passing the concatenated vector to the GRU\n",
    "        output, state = self.gru(x)\n",
    "\n",
    "        # output shape == (batch_size * 1, hidden_size)\n",
    "        output = tf.reshape(output, (-1, output.shape[2]))\n",
    "\n",
    "        # output shape == (batch_size, vocab)\n",
    "        x = self.fc(output)\n",
    "\n",
    "        return x, state, attention_weights"
   ]
  },
  {
   "cell_type": "code",
   "execution_count": 17,
   "metadata": {},
   "outputs": [
    {
     "name": "stdout",
     "output_type": "stream",
     "text": [
      "Decoder output shape: (batch_size, vocab size) (64, 8844)\n"
     ]
    }
   ],
   "source": [
    "decoder = Decoder(vocab_tar_size, embedding_dim, units, BATCH_SIZE)\n",
    "\n",
    "sample_decoder_output, _, _ = decoder(tf.random.uniform((64, 1)),\n",
    "                                      sample_hidden, sample_output)\n",
    "\n",
    "print ('Decoder output shape: (batch_size, vocab size) {}'.format(sample_decoder_output.shape))"
   ]
  },
  {
   "cell_type": "code",
   "execution_count": 18,
   "metadata": {},
   "outputs": [],
   "source": [
    "optimizer = tf.keras.optimizers.Adam()\n",
    "loss_object = tf.keras.losses.SparseCategoricalCrossentropy(\n",
    "    from_logits=True, reduction='none')\n",
    "\n",
    "def loss_function(real, pred):\n",
    "    mask = tf.math.logical_not(tf.math.equal(real, 0))\n",
    "    loss_ = loss_object(real, pred)\n",
    "\n",
    "    mask = tf.cast(mask, dtype=loss_.dtype)\n",
    "    loss_ *= mask\n",
    "\n",
    "    return tf.reduce_mean(loss_)"
   ]
  },
  {
   "cell_type": "code",
   "execution_count": 19,
   "metadata": {},
   "outputs": [],
   "source": [
    "checkpoint_dir = './training_checkpoints'\n",
    "checkpoint_prefix = os.path.join(checkpoint_dir, \"ckpt-45k-30epoch\")\n",
    "checkpoint = tf.train.Checkpoint(optimizer=optimizer,\n",
    "                                 encoder=encoder,\n",
    "                                 decoder=decoder)"
   ]
  },
  {
   "cell_type": "code",
   "execution_count": 20,
   "metadata": {},
   "outputs": [],
   "source": [
    "@tf.function\n",
    "def train_step(inp, targ, enc_hidden):\n",
    "    loss = 0\n",
    "\n",
    "    with tf.GradientTape() as tape:\n",
    "        enc_output, enc_hidden = encoder(inp, enc_hidden)\n",
    "\n",
    "        dec_hidden = enc_hidden\n",
    "\n",
    "        dec_input = tf.expand_dims([targ_lang.word_index['<start>']] * BATCH_SIZE, 1)\n",
    "\n",
    "        # Teacher forcing - feeding the target as the next input\n",
    "        for t in range(1, targ.shape[1]):\n",
    "            # passing enc_output to the decoder\n",
    "            predictions, dec_hidden, _ = decoder(dec_input, dec_hidden, enc_output)\n",
    "\n",
    "            loss += loss_function(targ[:, t], predictions)\n",
    "\n",
    "            # using teacher forcing\n",
    "            dec_input = tf.expand_dims(targ[:, t], 1)\n",
    "\n",
    "    batch_loss = (loss / int(targ.shape[1]))\n",
    "\n",
    "    variables = encoder.trainable_variables + decoder.trainable_variables\n",
    "\n",
    "    gradients = tape.gradient(loss, variables)\n",
    "\n",
    "    optimizer.apply_gradients(zip(gradients, variables))\n",
    "\n",
    "    return batch_loss"
   ]
  },
  {
   "cell_type": "code",
   "execution_count": 21,
   "metadata": {},
   "outputs": [
    {
     "name": "stdout",
     "output_type": "stream",
     "text": [
      "Epoch 1 Batch 0 Loss 2.7420\n",
      "Epoch 1 Batch 100 Loss 1.4641\n",
      "Epoch 1 Batch 200 Loss 1.5757\n",
      "Epoch 1 Batch 300 Loss 1.3221\n",
      "Epoch 1 Batch 400 Loss 1.3000\n",
      "Epoch 1 Batch 500 Loss 1.2700\n",
      "Epoch 1 Loss 1.4130\n",
      "Time taken for 1 epoch 2605.316736459732 sec\n",
      "\n",
      "Epoch 2 Batch 0 Loss 1.2374\n",
      "Epoch 2 Batch 100 Loss 1.1347\n",
      "Epoch 2 Batch 200 Loss 1.3038\n",
      "Epoch 2 Batch 300 Loss 1.0643\n",
      "Epoch 2 Batch 400 Loss 1.0721\n",
      "Epoch 2 Batch 500 Loss 1.0474\n",
      "Epoch 2 Loss 1.0984\n",
      "Time taken for 1 epoch 2553.679552793503 sec\n",
      "\n",
      "Epoch 3 Batch 0 Loss 1.0400\n",
      "Epoch 3 Batch 100 Loss 0.9062\n",
      "Epoch 3 Batch 200 Loss 1.1028\n",
      "Epoch 3 Batch 300 Loss 0.8526\n",
      "Epoch 3 Batch 400 Loss 0.8548\n",
      "Epoch 3 Batch 500 Loss 0.8447\n",
      "Epoch 3 Loss 0.8941\n",
      "Time taken for 1 epoch 2550.599761724472 sec\n",
      "\n",
      "Epoch 4 Batch 0 Loss 0.8187\n",
      "Epoch 4 Batch 100 Loss 0.6904\n",
      "Epoch 4 Batch 200 Loss 0.8948\n",
      "Epoch 4 Batch 300 Loss 0.6628\n",
      "Epoch 4 Batch 400 Loss 0.6428\n",
      "Epoch 4 Batch 500 Loss 0.6388\n",
      "Epoch 4 Loss 0.6873\n",
      "Time taken for 1 epoch 2556.8588938713074 sec\n",
      "\n",
      "Epoch 5 Batch 0 Loss 0.5981\n",
      "Epoch 5 Batch 100 Loss 0.4820\n",
      "Epoch 5 Batch 200 Loss 0.7078\n",
      "Epoch 5 Batch 300 Loss 0.4902\n",
      "Epoch 5 Batch 400 Loss 0.4745\n",
      "Epoch 5 Batch 500 Loss 0.4541\n",
      "Epoch 5 Loss 0.5087\n",
      "Time taken for 1 epoch 2554.768421649933 sec\n",
      "\n",
      "Epoch 6 Batch 0 Loss 0.4418\n",
      "Epoch 6 Batch 100 Loss 0.3452\n",
      "Epoch 6 Batch 200 Loss 0.5482\n",
      "Epoch 6 Batch 300 Loss 0.3679\n",
      "Epoch 6 Batch 400 Loss 0.3653\n",
      "Epoch 6 Batch 500 Loss 0.3423\n",
      "Epoch 6 Loss 0.3719\n",
      "Time taken for 1 epoch 2559.096219062805 sec\n",
      "\n",
      "Epoch 7 Batch 0 Loss 0.3286\n",
      "Epoch 7 Batch 100 Loss 0.2376\n",
      "Epoch 7 Batch 200 Loss 0.4208\n",
      "Epoch 7 Batch 300 Loss 0.2802\n",
      "Epoch 7 Batch 400 Loss 0.2789\n",
      "Epoch 7 Batch 500 Loss 0.2484\n",
      "Epoch 7 Loss 0.2762\n",
      "Time taken for 1 epoch 2554.053637981415 sec\n",
      "\n",
      "Epoch 8 Batch 0 Loss 0.2530\n",
      "Epoch 8 Batch 100 Loss 0.1927\n",
      "Epoch 8 Batch 200 Loss 0.3308\n",
      "Epoch 8 Batch 300 Loss 0.2145\n",
      "Epoch 8 Batch 400 Loss 0.1998\n",
      "Epoch 8 Batch 500 Loss 0.1871\n",
      "Epoch 8 Loss 0.2078\n",
      "Time taken for 1 epoch 2555.9981713294983 sec\n",
      "\n",
      "Epoch 9 Batch 0 Loss 0.1960\n",
      "Epoch 9 Batch 100 Loss 0.1432\n",
      "Epoch 9 Batch 200 Loss 0.2413\n",
      "Epoch 9 Batch 300 Loss 0.1584\n",
      "Epoch 9 Batch 400 Loss 0.1603\n",
      "Epoch 9 Batch 500 Loss 0.1435\n",
      "Epoch 9 Loss 0.1591\n",
      "Time taken for 1 epoch 2557.1234340667725 sec\n",
      "\n",
      "Epoch 10 Batch 0 Loss 0.1697\n",
      "Epoch 10 Batch 100 Loss 0.1056\n",
      "Epoch 10 Batch 200 Loss 0.1985\n",
      "Epoch 10 Batch 300 Loss 0.1208\n",
      "Epoch 10 Batch 400 Loss 0.1047\n",
      "Epoch 10 Batch 500 Loss 0.1101\n",
      "Epoch 10 Loss 0.1222\n",
      "Time taken for 1 epoch 2558.7704317569733 sec\n",
      "\n",
      "Epoch 11 Batch 0 Loss 0.1104\n",
      "Epoch 11 Batch 100 Loss 0.0815\n",
      "Epoch 11 Batch 200 Loss 0.1327\n",
      "Epoch 11 Batch 300 Loss 0.1226\n",
      "Epoch 11 Batch 400 Loss 0.0831\n",
      "Epoch 11 Batch 500 Loss 0.0871\n",
      "Epoch 11 Loss 0.0951\n",
      "Time taken for 1 epoch 2556.924262523651 sec\n",
      "\n",
      "Epoch 12 Batch 0 Loss 0.0882\n",
      "Epoch 12 Batch 100 Loss 0.0681\n",
      "Epoch 12 Batch 200 Loss 0.1218\n",
      "Epoch 12 Batch 300 Loss 0.0962\n",
      "Epoch 12 Batch 400 Loss 0.0666\n",
      "Epoch 12 Batch 500 Loss 0.0701\n",
      "Epoch 12 Loss 0.0760\n",
      "Time taken for 1 epoch 2559.4303510189056 sec\n",
      "\n",
      "Epoch 13 Batch 0 Loss 0.0687\n",
      "Epoch 13 Batch 100 Loss 0.0477\n",
      "Epoch 13 Batch 200 Loss 0.0916\n",
      "Epoch 13 Batch 300 Loss 0.0869\n",
      "Epoch 13 Batch 400 Loss 0.0515\n",
      "Epoch 13 Batch 500 Loss 0.0666\n",
      "Epoch 13 Loss 0.0622\n",
      "Time taken for 1 epoch 2559.471154689789 sec\n",
      "\n",
      "Epoch 14 Batch 0 Loss 0.0671\n",
      "Epoch 14 Batch 100 Loss 0.0516\n",
      "Epoch 14 Batch 200 Loss 0.0663\n",
      "Epoch 14 Batch 300 Loss 0.0575\n",
      "Epoch 14 Batch 400 Loss 0.0464\n",
      "Epoch 14 Batch 500 Loss 0.0611\n",
      "Epoch 14 Loss 0.0521\n",
      "Time taken for 1 epoch 2566.9926290512085 sec\n",
      "\n",
      "Epoch 15 Batch 0 Loss 0.0542\n",
      "Epoch 15 Batch 100 Loss 0.0415\n",
      "Epoch 15 Batch 200 Loss 0.0537\n",
      "Epoch 15 Batch 300 Loss 0.0641\n",
      "Epoch 15 Batch 400 Loss 0.0455\n",
      "Epoch 15 Batch 500 Loss 0.0625\n",
      "Epoch 15 Loss 0.0482\n",
      "Time taken for 1 epoch 2563.6380310058594 sec\n",
      "\n",
      "Epoch 16 Batch 0 Loss 0.0458\n",
      "Epoch 16 Batch 100 Loss 0.0457\n",
      "Epoch 16 Batch 200 Loss 0.0635\n",
      "Epoch 16 Batch 300 Loss 0.0538\n",
      "Epoch 16 Batch 400 Loss 0.0388\n",
      "Epoch 16 Batch 500 Loss 0.0643\n",
      "Epoch 16 Loss 0.0449\n",
      "Time taken for 1 epoch 2564.1997380256653 sec\n",
      "\n",
      "Epoch 17 Batch 0 Loss 0.0537\n",
      "Epoch 17 Batch 100 Loss 0.0484\n",
      "Epoch 17 Batch 200 Loss 0.0517\n",
      "Epoch 17 Batch 300 Loss 0.0447\n",
      "Epoch 17 Batch 400 Loss 0.0378\n",
      "Epoch 17 Batch 500 Loss 0.0541\n",
      "Epoch 17 Loss 0.0416\n",
      "Time taken for 1 epoch 2563.1044068336487 sec\n",
      "\n",
      "Epoch 18 Batch 0 Loss 0.0507\n",
      "Epoch 18 Batch 100 Loss 0.0367\n",
      "Epoch 18 Batch 200 Loss 0.0847\n",
      "Epoch 18 Batch 300 Loss 0.0656\n",
      "Epoch 18 Batch 400 Loss 0.0469\n",
      "Epoch 18 Batch 500 Loss 0.0384\n",
      "Epoch 18 Loss 0.0447\n",
      "Time taken for 1 epoch 2643.1630249023438 sec\n",
      "\n",
      "Epoch 19 Batch 0 Loss 0.0374\n",
      "Epoch 19 Batch 100 Loss 0.0390\n",
      "Epoch 19 Batch 200 Loss 0.0640\n",
      "Epoch 19 Batch 300 Loss 0.0542\n",
      "Epoch 19 Batch 400 Loss 0.0289\n",
      "Epoch 19 Batch 500 Loss 0.0278\n",
      "Epoch 19 Loss 0.0380\n",
      "Time taken for 1 epoch 2561.0377748012543 sec\n",
      "\n",
      "Epoch 20 Batch 0 Loss 0.0354\n",
      "Epoch 20 Batch 100 Loss 0.0363\n",
      "Epoch 20 Batch 200 Loss 0.0486\n",
      "Epoch 20 Batch 300 Loss 0.0591\n",
      "Epoch 20 Batch 400 Loss 0.0314\n",
      "Epoch 20 Batch 500 Loss 0.0296\n",
      "Epoch 20 Loss 0.0328\n",
      "Time taken for 1 epoch 2550.2844111919403 sec\n",
      "\n",
      "Epoch 21 Batch 0 Loss 0.0407\n",
      "Epoch 21 Batch 100 Loss 0.0356\n",
      "Epoch 21 Batch 200 Loss 0.0437\n",
      "Epoch 21 Batch 300 Loss 0.0378\n",
      "Epoch 21 Batch 400 Loss 0.0292\n",
      "Epoch 21 Batch 500 Loss 0.0340\n",
      "Epoch 21 Loss 0.0299\n",
      "Time taken for 1 epoch 2569.689178943634 sec\n",
      "\n",
      "Epoch 22 Batch 0 Loss 0.0279\n",
      "Epoch 22 Batch 100 Loss 0.0398\n",
      "Epoch 22 Batch 200 Loss 0.0374\n",
      "Epoch 22 Batch 300 Loss 0.0408\n",
      "Epoch 22 Batch 400 Loss 0.0323\n",
      "Epoch 22 Batch 500 Loss 0.0274\n",
      "Epoch 22 Loss 0.0294\n",
      "Time taken for 1 epoch 2550.5540001392365 sec\n",
      "\n",
      "Epoch 23 Batch 0 Loss 0.0257\n",
      "Epoch 23 Batch 100 Loss 0.0286\n",
      "Epoch 23 Batch 200 Loss 0.0455\n",
      "Epoch 23 Batch 300 Loss 0.0447\n",
      "Epoch 23 Batch 400 Loss 0.0280\n",
      "Epoch 23 Batch 500 Loss 0.0408\n",
      "Epoch 23 Loss 0.0311\n",
      "Time taken for 1 epoch 2547.938145637512 sec\n",
      "\n",
      "Epoch 24 Batch 0 Loss 0.0379\n",
      "Epoch 24 Batch 100 Loss 0.0333\n",
      "Epoch 24 Batch 200 Loss 0.0369\n",
      "Epoch 24 Batch 300 Loss 0.0367\n",
      "Epoch 24 Batch 400 Loss 0.0363\n",
      "Epoch 24 Batch 500 Loss 0.0406\n",
      "Epoch 24 Loss 0.0311\n",
      "Time taken for 1 epoch 2550.1060585975647 sec\n",
      "\n",
      "Epoch 25 Batch 0 Loss 0.0227\n",
      "Epoch 25 Batch 100 Loss 0.0310\n",
      "Epoch 25 Batch 200 Loss 0.0390\n",
      "Epoch 25 Batch 300 Loss 0.0378\n",
      "Epoch 25 Batch 400 Loss 0.0299\n",
      "Epoch 25 Batch 500 Loss 0.0327\n",
      "Epoch 25 Loss 0.0311\n",
      "Time taken for 1 epoch 2547.8530411720276 sec\n",
      "\n",
      "Epoch 26 Batch 0 Loss 0.0265\n",
      "Epoch 26 Batch 100 Loss 0.0275\n",
      "Epoch 26 Batch 200 Loss 0.0404\n",
      "Epoch 26 Batch 300 Loss 0.0457\n",
      "Epoch 26 Batch 400 Loss 0.0316\n",
      "Epoch 26 Batch 500 Loss 0.0400\n",
      "Epoch 26 Loss 0.0310\n",
      "Time taken for 1 epoch 2564.14524769783 sec\n",
      "\n",
      "Epoch 27 Batch 0 Loss 0.0375\n",
      "Epoch 27 Batch 100 Loss 0.0248\n",
      "Epoch 27 Batch 200 Loss 0.0450\n",
      "Epoch 27 Batch 300 Loss 0.0553\n",
      "Epoch 27 Batch 400 Loss 0.0303\n",
      "Epoch 27 Batch 500 Loss 0.0247\n",
      "Epoch 27 Loss 0.0278\n",
      "Time taken for 1 epoch 2563.050482273102 sec\n",
      "\n",
      "Epoch 28 Batch 0 Loss 0.0317\n",
      "Epoch 28 Batch 100 Loss 0.0339\n",
      "Epoch 28 Batch 200 Loss 0.0317\n",
      "Epoch 28 Batch 300 Loss 0.0324\n",
      "Epoch 28 Batch 400 Loss 0.0304\n",
      "Epoch 28 Batch 500 Loss 0.0246\n",
      "Epoch 28 Loss 0.0280\n",
      "Time taken for 1 epoch 2565.4317762851715 sec\n",
      "\n",
      "Epoch 29 Batch 0 Loss 0.0366\n",
      "Epoch 29 Batch 100 Loss 0.0347\n",
      "Epoch 29 Batch 200 Loss 0.0368\n",
      "Epoch 29 Batch 300 Loss 0.0403\n",
      "Epoch 29 Batch 400 Loss 0.0219\n",
      "Epoch 29 Batch 500 Loss 0.0360\n",
      "Epoch 29 Loss 0.0289\n",
      "Time taken for 1 epoch 2564.656318664551 sec\n",
      "\n",
      "Epoch 30 Batch 0 Loss 0.0273\n",
      "Epoch 30 Batch 100 Loss 0.0289\n",
      "Epoch 30 Batch 200 Loss 0.0418\n",
      "Epoch 30 Batch 300 Loss 0.0439\n",
      "Epoch 30 Batch 400 Loss 0.0213\n",
      "Epoch 30 Batch 500 Loss 0.0384\n",
      "Epoch 30 Loss 0.0295\n",
      "Time taken for 1 epoch 2571.4970347881317 sec\n",
      "\n"
     ]
    }
   ],
   "source": [
    "EPOCHS = 30\n",
    "\n",
    "for epoch in range(EPOCHS):\n",
    "    start = time.time()\n",
    "\n",
    "    enc_hidden = encoder.initialize_hidden_state()\n",
    "    total_loss = 0\n",
    "\n",
    "    for (batch, (inp, targ)) in enumerate(dataset.take(steps_per_epoch)):\n",
    "        batch_loss = train_step(inp, targ, enc_hidden)\n",
    "        total_loss += batch_loss\n",
    "\n",
    "        if batch % 100 == 0:\n",
    "            print('Epoch {} Batch {} Loss {:.4f}'.format(epoch + 1,\n",
    "                                                         batch,\n",
    "                                                         batch_loss.numpy()))\n",
    "    # saving (checkpoint) the model every 2 epochs\n",
    "    if (epoch + 1) % 2 == 0:\n",
    "        checkpoint.save(file_prefix = checkpoint_prefix)\n",
    "\n",
    "    print('Epoch {} Loss {:.4f}'.format(epoch + 1,\n",
    "                                        total_loss / steps_per_epoch))\n",
    "    print('Time taken for 1 epoch {} sec\\n'.format(time.time() - start))"
   ]
  },
  {
   "cell_type": "code",
   "execution_count": 35,
   "metadata": {},
   "outputs": [],
   "source": [
    "def evaluate(sentence, verbose=False):\n",
    "    attention_plot = np.zeros((max_length_targ, max_length_inp))\n",
    "    if verbose == True:\n",
    "        print('Original sentence: {}'.format(sentence))\n",
    "\n",
    "    sentence = preprocess_jpn_sentence(sentence)\n",
    "    if verbose == True:\n",
    "        print('Preprocessed sentence: {}'.format(sentence))\n",
    "\n",
    "    inputs = [inp_lang.word_index[i] for i in sentence.split(' ')]\n",
    "    if verbose == True:\n",
    "        print('Word sequences of sentence: {}'.format(inputs))\n",
    "        \n",
    "    inputs = tf.keras.preprocessing.sequence.pad_sequences([inputs],\n",
    "                                                           maxlen=max_length_inp,\n",
    "                                                           padding='post')\n",
    "    if verbose == True:\n",
    "        print('Paded sequences of sentence: {}'.format(inputs))\n",
    "\n",
    "    inputs = tf.convert_to_tensor(inputs)\n",
    "    if verbose == True:\n",
    "        print('Tensor of sentence: {}'.format(inputs))\n",
    "\n",
    "    result = ''\n",
    "\n",
    "    hidden = [tf.zeros((1, units))]\n",
    "    enc_out, enc_hidden = encoder(inputs, hidden)\n",
    "    if verbose == True:\n",
    "        print('enc_out: {}'.format(enc_out))\n",
    "        print('enc_hidden: {}'.format(enc_hidden))\n",
    "\n",
    "    dec_hidden = enc_hidden\n",
    "    dec_input = tf.expand_dims([targ_lang.word_index['<start>']], 0)\n",
    "    if verbose == True:\n",
    "        print('dec_input: {}'.format(dec_input))\n",
    "\n",
    "    for t in range(max_length_targ):\n",
    "        predictions, dec_hidden, attention_weights = decoder(dec_input,\n",
    "                                                             dec_hidden,\n",
    "                                                             enc_out)\n",
    "\n",
    "        # storing the attention weights to plot later on\n",
    "        attention_weights = tf.reshape(attention_weights, (-1, ))\n",
    "        attention_plot[t] = attention_weights.numpy()\n",
    "\n",
    "        predicted_id = tf.argmax(predictions[0]).numpy()\n",
    "\n",
    "        result += targ_lang.index_word[predicted_id] + ' '\n",
    "\n",
    "        if targ_lang.index_word[predicted_id] == '<end>':\n",
    "            return result, sentence, attention_plot\n",
    "\n",
    "        # the predicted ID is fed back into the model\n",
    "        dec_input = tf.expand_dims([predicted_id], 0)\n",
    "        if verbose == True:\n",
    "            print('dec_input: {}'.format(dec_input))\n",
    "\n",
    "    return result, sentence, attention_plot"
   ]
  },
  {
   "cell_type": "code",
   "execution_count": 22,
   "metadata": {},
   "outputs": [],
   "source": [
    "# function for plotting the attention weights\n",
    "def plot_attention(attention, sentence, predicted_sentence):\n",
    "    fig = plt.figure(figsize=(10,10))\n",
    "    ax = fig.add_subplot(1, 1, 1)\n",
    "    ax.matshow(attention, cmap='viridis')\n",
    "\n",
    "    fontdict = {'fontsize': 14}\n",
    "\n",
    "    ax.set_xticklabels([''] + sentence, fontdict=fontdict, rotation=90)\n",
    "    ax.set_yticklabels([''] + predicted_sentence, fontdict=fontdict)\n",
    "\n",
    "    ax.xaxis.set_major_locator(ticker.MultipleLocator(1))\n",
    "    ax.yaxis.set_major_locator(ticker.MultipleLocator(1))\n",
    "\n",
    "    plt.show()"
   ]
  },
  {
   "cell_type": "code",
   "execution_count": 39,
   "metadata": {},
   "outputs": [],
   "source": [
    "def translate(sentence, verbose=False):\n",
    "    result, sentence, attention_plot = evaluate(sentence, verbose)\n",
    "\n",
    "    print('Input: %s' % (sentence))\n",
    "    print('Predicted translation: {}'.format(result))\n",
    "\n",
    "    attention_plot = attention_plot[:len(result.split(' ')), :len(sentence.split(' '))]\n",
    "    plot_attention(attention_plot, sentence.split(' '), result.split(' '))"
   ]
  },
  {
   "cell_type": "code",
   "execution_count": 24,
   "metadata": {},
   "outputs": [
    {
     "data": {
      "text/plain": [
       "<tensorflow.python.training.tracking.util.CheckpointLoadStatus at 0x2af9a36a0f0>"
      ]
     },
     "execution_count": 24,
     "metadata": {},
     "output_type": "execute_result"
    }
   ],
   "source": [
    "# restoring the latest checkpoint in checkpoint_dir\n",
    "checkpoint.restore(tf.train.latest_checkpoint(checkpoint_dir))"
   ]
  },
  {
   "cell_type": "code",
   "execution_count": 25,
   "metadata": {},
   "outputs": [
    {
     "name": "stdout",
     "output_type": "stream",
     "text": [
      "Input: <start> 雨 が 嫌い 。 <end>\n",
      "Predicted translation: i don t like rain . <end> \n"
     ]
    },
    {
     "name": "stderr",
     "output_type": "stream",
     "text": [
      "C:\\Users\\Alice\\Anaconda3\\lib\\site-packages\\matplotlib\\backends\\backend_agg.py:211: RuntimeWarning: Glyph 38632 missing from current font.\n",
      "  font.set_text(s, 0.0, flags=flags)\n",
      "C:\\Users\\Alice\\Anaconda3\\lib\\site-packages\\matplotlib\\backends\\backend_agg.py:211: RuntimeWarning: Glyph 12364 missing from current font.\n",
      "  font.set_text(s, 0.0, flags=flags)\n",
      "C:\\Users\\Alice\\Anaconda3\\lib\\site-packages\\matplotlib\\backends\\backend_agg.py:211: RuntimeWarning: Glyph 23244 missing from current font.\n",
      "  font.set_text(s, 0.0, flags=flags)\n",
      "C:\\Users\\Alice\\Anaconda3\\lib\\site-packages\\matplotlib\\backends\\backend_agg.py:211: RuntimeWarning: Glyph 12356 missing from current font.\n",
      "  font.set_text(s, 0.0, flags=flags)\n",
      "C:\\Users\\Alice\\Anaconda3\\lib\\site-packages\\matplotlib\\backends\\backend_agg.py:211: RuntimeWarning: Glyph 12290 missing from current font.\n",
      "  font.set_text(s, 0.0, flags=flags)\n",
      "C:\\Users\\Alice\\Anaconda3\\lib\\site-packages\\matplotlib\\backends\\backend_agg.py:176: RuntimeWarning: Glyph 38632 missing from current font.\n",
      "  font.load_char(ord(s), flags=flags)\n",
      "C:\\Users\\Alice\\Anaconda3\\lib\\site-packages\\matplotlib\\backends\\backend_agg.py:176: RuntimeWarning: Glyph 12364 missing from current font.\n",
      "  font.load_char(ord(s), flags=flags)\n",
      "C:\\Users\\Alice\\Anaconda3\\lib\\site-packages\\matplotlib\\backends\\backend_agg.py:180: RuntimeWarning: Glyph 23244 missing from current font.\n",
      "  font.set_text(s, 0, flags=flags)\n",
      "C:\\Users\\Alice\\Anaconda3\\lib\\site-packages\\matplotlib\\backends\\backend_agg.py:180: RuntimeWarning: Glyph 12356 missing from current font.\n",
      "  font.set_text(s, 0, flags=flags)\n",
      "C:\\Users\\Alice\\Anaconda3\\lib\\site-packages\\matplotlib\\backends\\backend_agg.py:176: RuntimeWarning: Glyph 12290 missing from current font.\n",
      "  font.load_char(ord(s), flags=flags)\n"
     ]
    },
    {
     "data": {
      "image/png": "[encoded data removed]",
      "text/plain": [
       "<Figure size 720x720 with 1 Axes>"
      ]
     },
     "metadata": {
      "needs_background": "light"
     },
     "output_type": "display_data"
    }
   ],
   "source": [
    "translate(u'雨が嫌い。')"
   ]
  },
  {
   "cell_type": "code",
   "execution_count": 42,
   "metadata": {},
   "outputs": [
    {
     "name": "stdout",
     "output_type": "stream",
     "text": [
      "Original sentence: いい天気ですね。\n",
      "Preprocessed sentence: <start> いい 天気 です ね 。 <end>\n",
      "Word sequences of sentence: [1, 45, 415, 20, 59, 3, 2]\n",
      "Paded sequences of sentence: [[  1  45 415  20  59   3   2   0   0   0   0   0   0   0   0   0   0   0\n",
      "    0   0   0   0   0   0   0   0   0   0   0   0   0   0   0   0   0   0\n",
      "    0   0   0   0   0   0   0   0]]\n",
      "Tensor of sentence: [[  1  45 415  20  59   3   2   0   0   0   0   0   0   0   0   0   0   0\n",
      "    0   0   0   0   0   0   0   0   0   0   0   0   0   0   0   0   0   0\n",
      "    0   0   0   0   0   0   0   0]]\n",
      "enc_out: [[[ 0.00549655 -0.10430124  0.00152233 ...  0.02123659 -0.03486874\n",
      "   -0.10197296]\n",
      "  [ 0.00390758 -0.16195562  0.00699065 ...  0.3110405  -0.04618217\n",
      "   -0.1307275 ]\n",
      "  [ 0.03408554 -0.5232086  -0.5766188  ...  0.37764972 -0.9423333\n",
      "   -0.12432431]\n",
      "  ...\n",
      "  [ 0.07000643  0.4793058   0.06101694 ... -0.9345466  -0.92021734\n",
      "   -0.09653044]\n",
      "  [ 0.07000935  0.47959706  0.06101688 ... -0.93420655 -0.92021734\n",
      "   -0.09653616]\n",
      "  [ 0.07001245  0.47989005  0.06101682 ... -0.93386483 -0.92021734\n",
      "   -0.09654184]]]\n",
      "enc_hidden: [[ 0.07001245  0.47989005  0.06101682 ... -0.93386483 -0.92021734\n",
      "  -0.09654184]]\n",
      "dec_input: [[1]]\n",
      "dec_input: [[16]]\n",
      "dec_input: [[18]]\n",
      "dec_input: [[7]]\n",
      "dec_input: [[340]]\n",
      "dec_input: [[88]]\n",
      "dec_input: [[3]]\n",
      "Input: <start> いい 天気 です ね 。 <end>\n",
      "Predicted translation: it s a nice day . <end> \n"
     ]
    },
    {
     "data": {
      "image/png": "[encoded data removed]",
      "text/plain": [
       "<Figure size 720x720 with 1 Axes>"
      ]
     },
     "metadata": {
      "needs_background": "light"
     },
     "output_type": "display_data"
    }
   ],
   "source": [
    "translate('いい天気ですね。', verbose=True)"
   ]
  }
 ],
 "metadata": {
  "kernelspec": {
   "display_name": "tensorflow1",
   "language": "python",
   "name": "tensorflow1"
  },
  "language_info": {
   "codemirror_mode": {
    "name": "ipython",
    "version": 3
   },
   "file_extension": ".py",
   "mimetype": "text/x-python",
   "name": "python",
   "nbconvert_exporter": "python",
   "pygments_lexer": "ipython3",
   "version": "3.7.3"
  }
 },
 "nbformat": 4,
 "nbformat_minor": 4
}
