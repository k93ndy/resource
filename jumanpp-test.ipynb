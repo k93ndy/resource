{
 "cells": [
  {
   "cell_type": "code",
   "execution_count": 16,
   "metadata": {},
   "outputs": [],
   "source": [
    "from pyknp import Juman\n",
    "import time\n",
    "import MeCab"
   ]
  },
  {
   "cell_type": "code",
   "execution_count": 2,
   "metadata": {},
   "outputs": [],
   "source": [
    "jumanpp = Juman()   # default is JUMAN++: Juman(jumanpp=True). if you use JUMAN, use Juman(jumanpp=False)"
   ]
  },
  {
   "cell_type": "code",
   "execution_count": 2,
   "metadata": {},
   "outputs": [
    {
     "name": "stdout",
     "output_type": "stream",
     "text": [
      "見出し:下鴨, 読み:しもがも, 原形:下鴨, 品詞:名詞, 品詞細分類:地名, 活用型:*, 活用形:*, 意味情報:自動獲得:Wikipedia Wikipedia地名, 代表表記:\n",
      "見出し:神社, 読み:じんじゃ, 原形:神社, 品詞:名詞, 品詞細分類:普通名詞, 活用型:*, 活用形:*, 意味情報:代表表記:神社/じんじゃ 地名末尾 カテゴリ:場所-施設 ドメイン:文化・芸術, 代表表記:神社/じんじゃ\n",
      "見出し:の, 読み:の, 原形:の, 品詞:助詞, 品詞細分類:格助詞, 活用型:*, 活用形:*, 意味情報:NIL, 代表表記:\n",
      "見出し:参道, 読み:さんどう, 原形:参道, 品詞:名詞, 品詞細分類:普通名詞, 活用型:*, 活用形:*, 意味情報:代表表記:参道/さんどう カテゴリ:場所-施設 ドメイン:文化・芸術, 代表表記:参道/さんどう\n",
      "見出し:は, 読み:は, 原形:は, 品詞:助詞, 品詞細分類:副助詞, 活用型:*, 活用形:*, 意味情報:NIL, 代表表記:\n",
      "見出し:暗かった, 読み:くらかった, 原形:暗い, 品詞:形容詞, 品詞細分類:*, 活用型:イ形容詞アウオ段, 活用形:タ形, 意味情報:代表表記:暗い/くらい, 代表表記:暗い/くらい\n",
      "見出し:。, 読み:。, 原形:。, 品詞:特殊, 品詞細分類:句点, 活用型:*, 活用形:*, 意味情報:NIL, 代表表記:\n"
     ]
    }
   ],
   "source": [
    "result = jumanpp.analysis(\"下鴨神社の参道は暗かった。\")\n",
    "for mrph in result.mrph_list(): # 各形態素にアクセス\n",
    "    print(\"見出し:%s, 読み:%s, 原形:%s, 品詞:%s, 品詞細分類:%s, 活用型:%s, 活用形:%s, 意味情報:%s, 代表表記:%s\" \\\n",
    "            % (mrph.midasi, mrph.yomi, mrph.genkei, mrph.hinsi, mrph.bunrui, mrph.katuyou1, mrph.katuyou2, mrph.imis, mrph.repname))"
   ]
  },
  {
   "cell_type": "code",
   "execution_count": 5,
   "metadata": {},
   "outputs": [
    {
     "name": "stdout",
     "output_type": "stream",
     "text": [
      "見出し:日本\n",
      "見出し:語\n",
      "見出し:テスト\n",
      "見出し:。\n"
     ]
    }
   ],
   "source": [
    "result = jumanpp.analysis(\"日本語テスト。\")\n",
    "for mrph in result.mrph_list(): # 各形態素にアクセス\n",
    "    print(\"見出し:%s\" % (mrph.midasi))"
   ]
  },
  {
   "cell_type": "code",
   "execution_count": 14,
   "metadata": {},
   "outputs": [
    {
     "name": "stdout",
     "output_type": "stream",
     "text": [
      "0.1200s passed.\n",
      "見出し:明日\n",
      "見出し:の\n",
      "見出し:天気\n",
      "見出し:は\n",
      "見出し:どう\n",
      "見出し:です\n",
      "見出し:か\n",
      "見出し:？\n"
     ]
    }
   ],
   "source": [
    "test_text = \"明日の天気はどうですか？\"\n",
    "start = time.time()\n",
    "result = jumanpp.analysis(test_text)\n",
    "print(\"{:.4f}s passed.\".format(time.time()-start))\n",
    "for mrph in result.mrph_list(): # 各形態素にアクセス\n",
    "    print(\"見出し:%s\" % (mrph.midasi))\n",
    "    \n",
    "# print(jumanpp.juman_lines(\"明日の天気はどうですか？\"))"
   ]
  },
  {
   "cell_type": "code",
   "execution_count": 19,
   "metadata": {},
   "outputs": [
    {
     "name": "stdout",
     "output_type": "stream",
     "text": [
      "0.0130s passed.\n",
      "<start> 明日 の 天気 は どう です か ？ <end>\n"
     ]
    }
   ],
   "source": [
    "start = time.time()\n",
    "m = MeCab.Tagger (\"-Owakati\")\n",
    "w = '<start> ' + m.parse(test_text).strip().strip('\\n') + ' <end>'\n",
    "print(\"{:.4f}s passed.\".format(time.time()-start))\n",
    "print(w)"
   ]
  },
  {
   "cell_type": "code",
   "execution_count": 23,
   "metadata": {},
   "outputs": [
    {
     "name": "stdout",
     "output_type": "stream",
     "text": [
      "H\n",
      "o\n",
      "w\n",
      " \n",
      "a\n",
      "r\n",
      "e\n",
      " \n",
      "y\n",
      "o\n",
      "u\n",
      "?\n",
      "how are you?\n"
     ]
    }
   ],
   "source": [
    "eng_text = \"How are you?\"\n",
    "\n",
    "for c in eng_text:\n",
    "  print(c)\n",
    "print(eng_text.lower())"
   ]
  }
 ],
 "metadata": {
  "kernelspec": {
   "display_name": "Python 3",
   "language": "python",
   "name": "python3"
  },
  "language_info": {
   "codemirror_mode": {
    "name": "ipython",
    "version": 3
   },
   "file_extension": ".py",
   "mimetype": "text/x-python",
   "name": "python",
   "nbconvert_exporter": "python",
   "pygments_lexer": "ipython3",
   "version": "3.7.3"
  }
 },
 "nbformat": 4,
 "nbformat_minor": 4
}
