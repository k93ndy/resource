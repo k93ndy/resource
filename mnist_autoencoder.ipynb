{
 "cells": [
  {
   "cell_type": "code",
   "execution_count": 1,
   "metadata": {},
   "outputs": [],
   "source": [
    "import tensorflow as tf\n",
    "import tensorflow.keras as keras\n",
    "\n",
    "import matplotlib.pyplot as plt\n",
    "import numpy as np\n",
    "import os\n",
    "import time"
   ]
  },
  {
   "cell_type": "code",
   "execution_count": 2,
   "metadata": {},
   "outputs": [],
   "source": [
    "(train_images, train_labels), (test_images, test_labels) = tf.keras.datasets.mnist.load_data()"
   ]
  },
  {
   "cell_type": "code",
   "execution_count": 8,
   "metadata": {},
   "outputs": [],
   "source": [
    "train_images = train_images.reshape(train_images.shape[0], 28, 28, 1).astype('float32')\n",
    "train_images = (train_images - 127.5) / 127.5 # Normalize the images to [-1, 1]\n",
    "test_images = test_images.reshape(test_images.shape[0], 28, 28, 1).astype('float32')\n",
    "test_images = (test_images - 127.5) / 127.5 # Normalize the images to [-1, 1]"
   ]
  },
  {
   "cell_type": "code",
   "execution_count": 13,
   "metadata": {},
   "outputs": [],
   "source": [
    "def make_encoder_model():\n",
    "  model = keras.Sequential()\n",
    "  model.add(keras.layers.Conv2D(6, 5, padding=\"SAME\",\n",
    "                                input_shape=[28, 28, 1]))\n",
    "  model.add(keras.layers.BatchNormalization())\n",
    "  model.add(keras.layers.LeakyReLU())\n",
    "  model.add(keras.layers.MaxPooling2D(2))\n",
    "\n",
    "  model.add(keras.layers.Conv2D(16, 3, padding=\"SAME\",\n",
    "                                input_shape=[14, 14, 1]))\n",
    "  model.add(keras.layers.BatchNormalization())\n",
    "  model.add(keras.layers.LeakyReLU())\n",
    "  model.add(keras.layers.MaxPooling2D(2))\n",
    "\n",
    "  model.add(keras.layers.Conv2D(32, 3, padding=\"SAME\",\n",
    "                                input_shape=[7, 7, 1]))\n",
    "  model.add(keras.layers.BatchNormalization())\n",
    "  model.add(keras.layers.LeakyReLU())\n",
    "\n",
    "  model.add(keras.layers.GlobalAveragePooling2D())\n",
    "  model.add(keras.layers.Flatten())\n",
    "  model.add(keras.layers.Dense(10))\n",
    "\n",
    "  return model"
   ]
  },
  {
   "cell_type": "code",
   "execution_count": 14,
   "metadata": {},
   "outputs": [],
   "source": [
    "def make_decoder_model():\n",
    "  model = keras.Sequential()\n",
    "  model.add(keras.layers.Dense(7*7*256, use_bias=False, input_shape=(10,)))\n",
    "  model.add(keras.layers.BatchNormalization())\n",
    "  model.add(keras.layers.LeakyReLU())\n",
    "\n",
    "  model.add(layers.Reshape((7, 7, 256)))\n",
    "  assert model.output_shape == (None, 7, 7, 256) # Note: None is the batch size\n",
    "\n",
    "  model.add(keras.layers.Conv2DTranspose(128, (5, 5), strides=(1, 1), padding='same', use_bias=False))\n",
    "  assert model.output_shape == (None, 7, 7, 128)\n",
    "  model.add(keras.layers.BatchNormalization())\n",
    "  model.add(keras.layers.LeakyReLU())\n",
    "\n",
    "  model.add(keras.layers.Conv2DTranspose(64, (5, 5), strides=(2, 2), padding='same', use_bias=False))\n",
    "  assert model.output_shape == (None, 14, 14, 64)\n",
    "  model.add(keras.layers.BatchNormalization())\n",
    "  model.add(keras.layers.LeakyReLU())\n",
    "\n",
    "  model.add(keras.layers.Conv2DTranspose(1, (5, 5), strides=(2, 2), padding='same', use_bias=False, activation='tanh'))\n",
    "  assert model.output_shape == (None, 28, 28, 1)\n",
    "\n",
    "  return model"
   ]
  },
  {
   "cell_type": "code",
   "execution_count": null,
   "metadata": {},
   "outputs": [],
   "source": [
    "encoder = make_encoder_model()\n",
    "decoder = make_decoder_model()\n",
    "model = keras.Sequential([encoder, decoder])"
   ]
  },
  {
   "cell_type": "code",
   "execution_count": 17,
   "metadata": {},
   "outputs": [],
   "source": [
    "def make_encoder_decoder_model():\n",
    "  # encoder\n",
    "  model = tf.keras.Sequential()\n",
    "  model.add(keras.layers.Conv2D(6, 5, padding=\"SAME\",\n",
    "                                input_shape=[28, 28, 1]))\n",
    "  model.add(keras.layers.BatchNormalization())\n",
    "  model.add(keras.layers.LeakyReLU())\n",
    "  model.add(keras.layers.MaxPooling2D(2))\n",
    "\n",
    "  model.add(keras.layers.Conv2D(16, 3, padding=\"SAME\",\n",
    "                                input_shape=[14, 14, 1]))\n",
    "  model.add(keras.layers.BatchNormalization())\n",
    "  model.add(keras.layers.LeakyReLU())\n",
    "  model.add(keras.layers.MaxPooling2D(2))\n",
    "\n",
    "  model.add(keras.layers.Conv2D(32, 3, padding=\"SAME\",\n",
    "                                input_shape=[7, 7, 1]))\n",
    "  model.add(keras.layers.BatchNormalization())\n",
    "  model.add(keras.layers.LeakyReLU())\n",
    "\n",
    "  model.add(keras.layers.GlobalAveragePooling2D())\n",
    "  model.add(keras.layers.Flatten())\n",
    "  model.add(keras.layers.Dense(10))\n",
    "  \n",
    "  \n",
    "  \n",
    "  \n",
    "  # decoder\n",
    "  model.add(keras.layers.Dense(7*7*256))\n",
    "  model.add(keras.layers.BatchNormalization())\n",
    "  model.add(keras.layers.LeakyReLU())\n",
    "\n",
    "  model.add(keras.layers.Reshape((7, 7, 256)))\n",
    "  assert model.output_shape == (None, 7, 7, 256) # Note: None is the batch size\n",
    "\n",
    "  model.add(keras.layers.Conv2DTranspose(128, (5, 5), strides=(1, 1), padding='same', use_bias=False))\n",
    "  assert model.output_shape == (None, 7, 7, 128)\n",
    "  model.add(keras.layers.BatchNormalization())\n",
    "  model.add(keras.layers.LeakyReLU())\n",
    "\n",
    "  model.add(keras.layers.Conv2DTranspose(64, (5, 5), strides=(2, 2), padding='same', use_bias=False))\n",
    "  assert model.output_shape == (None, 14, 14, 64)\n",
    "  model.add(keras.layers.BatchNormalization())\n",
    "  model.add(keras.layers.LeakyReLU())\n",
    "\n",
    "  model.add(keras.layers.Conv2DTranspose(1, (5, 5), strides=(2, 2), padding='same', use_bias=False, activation='tanh'))\n",
    "  assert model.output_shape == (None, 28, 28, 1)\n",
    "  \n",
    "  return model"
   ]
  },
  {
   "cell_type": "code",
   "execution_count": 18,
   "metadata": {},
   "outputs": [],
   "source": [
    "model = make_encoder_decoder_model()"
   ]
  },
  {
   "cell_type": "code",
   "execution_count": 20,
   "metadata": {},
   "outputs": [],
   "source": [
    "model.compile(optimizer='nadam',\n",
    "              loss='mean_squared_error')"
   ]
  },
  {
   "cell_type": "code",
   "execution_count": null,
   "metadata": {},
   "outputs": [
    {
     "name": "stdout",
     "output_type": "stream",
     "text": [
      "Train on 60000 samples, validate on 10000 samples\n",
      "Epoch 1/10\n",
      "60000/60000 [==============================] - 610s 10ms/sample - loss: 0.1083 - val_loss: 0.1251\n",
      "Epoch 2/10\n",
      "60000/60000 [==============================] - 661s 11ms/sample - loss: 0.0886 - val_loss: 0.1354\n",
      "Epoch 3/10\n",
      "60000/60000 [==============================] - 672s 11ms/sample - loss: 0.0820 - val_loss: 0.1122\n",
      "Epoch 4/10\n",
      "60000/60000 [==============================] - 683s 11ms/sample - loss: 0.0788 - val_loss: 0.0947\n",
      "Epoch 5/10\n",
      "60000/60000 [==============================] - 654s 11ms/sample - loss: 0.0758 - val_loss: 0.0889\n",
      "Epoch 6/10\n",
      "60000/60000 [==============================] - 632s 11ms/sample - loss: 0.0741 - val_loss: 0.1332\n",
      "Epoch 7/10\n",
      "59104/60000 [============================>.] - ETA: 11s - loss: 0.0724"
     ]
    }
   ],
   "source": [
    "model.fit(train_images, train_images, epochs=10, validation_data=(test_images, test_images))"
   ]
  },
  {
   "cell_type": "code",
   "execution_count": 56,
   "metadata": {},
   "outputs": [],
   "source": [
    "recovered_image = model.predict(test_images[:10])"
   ]
  },
  {
   "cell_type": "code",
   "execution_count": 57,
   "metadata": {},
   "outputs": [
    {
     "data": {
      "text/plain": [
       "<matplotlib.image.AxesImage at 0x14f4380a048>"
      ]
     },
     "execution_count": 57,
     "metadata": {},
     "output_type": "execute_result"
    },
    {
     "data": {
      "image/png": "[encoded data removed]",
      "text/plain": [
       "<Figure size 432x288 with 1 Axes>"
      ]
     },
     "metadata": {
      "needs_background": "light"
     },
     "output_type": "display_data"
    }
   ],
   "source": [
    "plt.imshow(test_images[1, :, :, 0], cmap='gray')"
   ]
  },
  {
   "cell_type": "code",
   "execution_count": 58,
   "metadata": {},
   "outputs": [
    {
     "data": {
      "text/plain": [
       "<matplotlib.image.AxesImage at 0x14f44057400>"
      ]
     },
     "execution_count": 58,
     "metadata": {},
     "output_type": "execute_result"
    },
    {
     "data": {
      "image/png": "[encoded data removed]",
      "text/plain": [
       "<Figure size 432x288 with 1 Axes>"
      ]
     },
     "metadata": {
      "needs_background": "light"
     },
     "output_type": "display_data"
    }
   ],
   "source": [
    "plt.imshow(recovered_image[1, :, :, 0], cmap='gray')"
   ]
  },
  {
   "cell_type": "code",
   "execution_count": 38,
   "metadata": {},
   "outputs": [],
   "source": [
    "inputs = model.input\n",
    "outputs = model.get_layer('dense_2').output\n",
    "encoder_only = keras.models.Model(inputs=inputs, outputs=outputs)"
   ]
  },
  {
   "cell_type": "code",
   "execution_count": 54,
   "metadata": {},
   "outputs": [
    {
     "name": "stdout",
     "output_type": "stream",
     "text": [
      "copy weights from conv2d_3 to conv2d_3\n",
      "copy weights from batch_normalization_4 to batch_normalization_4\n",
      "copy weights from leaky_re_lu_4 to leaky_re_lu_4\n",
      "copy weights from max_pooling2d_2 to max_pooling2d_2\n",
      "copy weights from conv2d_4 to conv2d_4\n",
      "copy weights from batch_normalization_5 to batch_normalization_5\n",
      "copy weights from leaky_re_lu_5 to leaky_re_lu_5\n",
      "copy weights from max_pooling2d_3 to max_pooling2d_3\n",
      "copy weights from conv2d_5 to conv2d_5\n",
      "copy weights from batch_normalization_6 to batch_normalization_6\n",
      "copy weights from leaky_re_lu_6 to leaky_re_lu_6\n",
      "copy weights from global_average_pooling2d_1 to global_average_pooling2d_1\n",
      "copy weights from flatten_1 to flatten_1\n",
      "copy weights from dense_2 to dense_2\n"
     ]
    }
   ],
   "source": [
    "num_of_layers = len(encoder_only.layers)\n",
    "for i in range(num_of_layers-1):\n",
    "  print('copy weights from {} to {}'.format(model.layers[i].name, encoder_only.layers[i+1].name))\n",
    "  encoder_only.layers[i+1].set_weights(model.layers[i].get_weights())"
   ]
  },
  {
   "cell_type": "code",
   "execution_count": 59,
   "metadata": {},
   "outputs": [
    {
     "data": {
      "text/plain": [
       "array([[ 0.04364923,  0.2944726 , -0.00523472, -0.05700197,  0.00247292,\n",
       "         0.11967463, -0.03766354, -0.19736022, -0.19290383, -0.31325468],\n",
       "       [ 0.13625465,  0.18535066, -0.02780587, -0.30572218,  0.06995414,\n",
       "         0.06491763, -0.15307787, -0.31325173, -0.171687  , -0.2948522 ]],\n",
       "      dtype=float32)"
      ]
     },
     "execution_count": 59,
     "metadata": {},
     "output_type": "execute_result"
    }
   ],
   "source": [
    "encoder_only.predict(test_images[:2])"
   ]
  },
  {
   "cell_type": "code",
   "execution_count": null,
   "metadata": {},
   "outputs": [],
   "source": []
  }
 ],
 "metadata": {
  "kernelspec": {
   "display_name": "Python 3",
   "language": "python",
   "name": "python3"
  },
  "language_info": {
   "codemirror_mode": {
    "name": "ipython",
    "version": 3
   },
   "file_extension": ".py",
   "mimetype": "text/x-python",
   "name": "python",
   "nbconvert_exporter": "python",
   "pygments_lexer": "ipython3",
   "version": "3.7.3"
  }
 },
 "nbformat": 4,
 "nbformat_minor": 4
}
